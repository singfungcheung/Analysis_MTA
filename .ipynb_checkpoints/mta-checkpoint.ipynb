{
 "cells": [
  {
   "cell_type": "code",
   "execution_count": 1,
   "id": "d35e0ce6-d9f1-496e-9319-f2b3898b6d2c",
   "metadata": {},
   "outputs": [],
   "source": [
    "import numpy as np\n",
    "import pandas as pd\n",
    "import matplotlib.pyplot as plt"
   ]
  },
  {
   "cell_type": "code",
   "execution_count": 2,
   "id": "893b61f6-118b-4e21-ba17-b14db1f0ca06",
   "metadata": {},
   "outputs": [
    {
     "name": "stderr",
     "output_type": "stream",
     "text": [
      "C:\\Users\\Sing Fung\\AppData\\Local\\Temp\\ipykernel_15596\\1524352686.py:1: DtypeWarning: Columns (2) have mixed types. Specify dtype option on import or set low_memory=False.\n",
      "  df = pd.read_csv(\"MTA_Subway_Hourly_Ridership__2020-2024_20250501.csv\")\n"
     ]
    }
   ],
   "source": [
    "df = pd.read_csv(\"MTA_Subway_Hourly_Ridership__2020-2024_20250501.csv\")"
   ]
  },
  {
   "cell_type": "markdown",
   "id": "e10d4477-5aca-48cf-9f6c-939787cbd9a7",
   "metadata": {},
   "source": [
    "## Looking at first 5 entries and columns"
   ]
  },
  {
   "cell_type": "code",
   "execution_count": 4,
   "id": "4334e256-23ee-4367-88e9-a60a237f6a81",
   "metadata": {},
   "outputs": [
    {
     "data": {
      "text/html": [
       "<div>\n",
       "<style scoped>\n",
       "    .dataframe tbody tr th:only-of-type {\n",
       "        vertical-align: middle;\n",
       "    }\n",
       "\n",
       "    .dataframe tbody tr th {\n",
       "        vertical-align: top;\n",
       "    }\n",
       "\n",
       "    .dataframe thead th {\n",
       "        text-align: right;\n",
       "    }\n",
       "</style>\n",
       "<table border=\"1\" class=\"dataframe\">\n",
       "  <thead>\n",
       "    <tr style=\"text-align: right;\">\n",
       "      <th></th>\n",
       "      <th>transit_timestamp</th>\n",
       "      <th>transit_mode</th>\n",
       "      <th>station_complex_id</th>\n",
       "      <th>station_complex</th>\n",
       "      <th>borough</th>\n",
       "      <th>payment_method</th>\n",
       "      <th>fare_class_category</th>\n",
       "      <th>ridership</th>\n",
       "      <th>transfers</th>\n",
       "      <th>latitude</th>\n",
       "      <th>longitude</th>\n",
       "      <th>Georeference</th>\n",
       "    </tr>\n",
       "  </thead>\n",
       "  <tbody>\n",
       "    <tr>\n",
       "      <th>0</th>\n",
       "      <td>07/08/2020 06:00:00 PM</td>\n",
       "      <td>subway</td>\n",
       "      <td>60</td>\n",
       "      <td>Fort Hamilton Pkwy (D)</td>\n",
       "      <td>Brooklyn</td>\n",
       "      <td>metrocard</td>\n",
       "      <td>Metrocard - Fair Fare</td>\n",
       "      <td>3</td>\n",
       "      <td>0</td>\n",
       "      <td>40.640915</td>\n",
       "      <td>-73.99430</td>\n",
       "      <td>POINT (-73.9943 40.640915)</td>\n",
       "    </tr>\n",
       "    <tr>\n",
       "      <th>1</th>\n",
       "      <td>07/08/2020 02:00:00 PM</td>\n",
       "      <td>subway</td>\n",
       "      <td>606</td>\n",
       "      <td>Court Sq (E,G,M,7)</td>\n",
       "      <td>Queens</td>\n",
       "      <td>metrocard</td>\n",
       "      <td>Metrocard - Other</td>\n",
       "      <td>15</td>\n",
       "      <td>0</td>\n",
       "      <td>40.747845</td>\n",
       "      <td>-73.94383</td>\n",
       "      <td>POINT (-73.94383 40.747845)</td>\n",
       "    </tr>\n",
       "    <tr>\n",
       "      <th>2</th>\n",
       "      <td>07/08/2020 06:00:00 AM</td>\n",
       "      <td>subway</td>\n",
       "      <td>58</td>\n",
       "      <td>Coney Island-Stillwell Av (D,F,N,Q)</td>\n",
       "      <td>Brooklyn</td>\n",
       "      <td>metrocard</td>\n",
       "      <td>Metrocard - Seniors &amp; Disability</td>\n",
       "      <td>11</td>\n",
       "      <td>0</td>\n",
       "      <td>40.577423</td>\n",
       "      <td>-73.98123</td>\n",
       "      <td>POINT (-73.98123 40.577423)</td>\n",
       "    </tr>\n",
       "    <tr>\n",
       "      <th>3</th>\n",
       "      <td>07/08/2020 06:00:00 PM</td>\n",
       "      <td>subway</td>\n",
       "      <td>365</td>\n",
       "      <td>Castle Hill Av (6)</td>\n",
       "      <td>Bronx</td>\n",
       "      <td>metrocard</td>\n",
       "      <td>Metrocard - Unlimited 7-Day</td>\n",
       "      <td>8</td>\n",
       "      <td>0</td>\n",
       "      <td>40.834255</td>\n",
       "      <td>-73.85122</td>\n",
       "      <td>POINT (-73.85122 40.834255)</td>\n",
       "    </tr>\n",
       "    <tr>\n",
       "      <th>4</th>\n",
       "      <td>07/08/2020 05:00:00 PM</td>\n",
       "      <td>subway</td>\n",
       "      <td>626</td>\n",
       "      <td>Franklin Av (2,3,4,5)/Botanic Garden (S)</td>\n",
       "      <td>Brooklyn</td>\n",
       "      <td>metrocard</td>\n",
       "      <td>Metrocard - Other</td>\n",
       "      <td>13</td>\n",
       "      <td>0</td>\n",
       "      <td>40.670680</td>\n",
       "      <td>-73.95813</td>\n",
       "      <td>POINT (-73.95813 40.67068)</td>\n",
       "    </tr>\n",
       "  </tbody>\n",
       "</table>\n",
       "</div>"
      ],
      "text/plain": [
       "        transit_timestamp transit_mode station_complex_id  \\\n",
       "0  07/08/2020 06:00:00 PM       subway                 60   \n",
       "1  07/08/2020 02:00:00 PM       subway                606   \n",
       "2  07/08/2020 06:00:00 AM       subway                 58   \n",
       "3  07/08/2020 06:00:00 PM       subway                365   \n",
       "4  07/08/2020 05:00:00 PM       subway                626   \n",
       "\n",
       "                            station_complex   borough payment_method  \\\n",
       "0                    Fort Hamilton Pkwy (D)  Brooklyn      metrocard   \n",
       "1                        Court Sq (E,G,M,7)    Queens      metrocard   \n",
       "2       Coney Island-Stillwell Av (D,F,N,Q)  Brooklyn      metrocard   \n",
       "3                        Castle Hill Av (6)     Bronx      metrocard   \n",
       "4  Franklin Av (2,3,4,5)/Botanic Garden (S)  Brooklyn      metrocard   \n",
       "\n",
       "                fare_class_category  ridership  transfers   latitude  \\\n",
       "0             Metrocard - Fair Fare          3          0  40.640915   \n",
       "1                 Metrocard - Other         15          0  40.747845   \n",
       "2  Metrocard - Seniors & Disability         11          0  40.577423   \n",
       "3       Metrocard - Unlimited 7-Day          8          0  40.834255   \n",
       "4                 Metrocard - Other         13          0  40.670680   \n",
       "\n",
       "   longitude                 Georeference  \n",
       "0  -73.99430   POINT (-73.9943 40.640915)  \n",
       "1  -73.94383  POINT (-73.94383 40.747845)  \n",
       "2  -73.98123  POINT (-73.98123 40.577423)  \n",
       "3  -73.85122  POINT (-73.85122 40.834255)  \n",
       "4  -73.95813   POINT (-73.95813 40.67068)  "
      ]
     },
     "execution_count": 4,
     "metadata": {},
     "output_type": "execute_result"
    }
   ],
   "source": [
    "df.head()"
   ]
  },
  {
   "cell_type": "code",
   "execution_count": 5,
   "id": "e03e8c46-094c-4f26-8db9-5612961ceeff",
   "metadata": {},
   "outputs": [
    {
     "data": {
      "text/plain": [
       "Index(['transit_timestamp', 'transit_mode', 'station_complex_id',\n",
       "       'station_complex', 'borough', 'payment_method', 'fare_class_category',\n",
       "       'ridership', 'transfers', 'latitude', 'longitude', 'Georeference'],\n",
       "      dtype='object')"
      ]
     },
     "execution_count": 5,
     "metadata": {},
     "output_type": "execute_result"
    }
   ],
   "source": [
    "df.columns"
   ]
  },
  {
   "cell_type": "code",
   "execution_count": 6,
   "id": "418e8cdd-7646-471d-b8dc-e32141a33be5",
   "metadata": {},
   "outputs": [
    {
     "data": {
      "text/plain": [
       "{'staten_island_railway', 'subway', 'tram'}"
      ]
     },
     "execution_count": 6,
     "metadata": {},
     "output_type": "execute_result"
    }
   ],
   "source": [
    "set(df['transit_mode'].values)"
   ]
  },
  {
   "cell_type": "code",
   "execution_count": 7,
   "id": "e21f47d4-a669-4b74-a506-4b3f24506330",
   "metadata": {},
   "outputs": [
    {
     "data": {
      "text/plain": [
       "{'metrocard', 'omny'}"
      ]
     },
     "execution_count": 7,
     "metadata": {},
     "output_type": "execute_result"
    }
   ],
   "source": [
    "set(df['payment_method'].values)"
   ]
  },
  {
   "cell_type": "code",
   "execution_count": 9,
   "id": "92f86e50-b3da-4673-a71f-fcaffef78d2d",
   "metadata": {},
   "outputs": [
    {
     "data": {
      "text/plain": [
       "{'Metrocard - Fair Fare',\n",
       " 'Metrocard - Full Fare',\n",
       " 'Metrocard - Other',\n",
       " 'Metrocard - Seniors & Disability',\n",
       " 'Metrocard - Students',\n",
       " 'Metrocard - Unlimited 30-Day',\n",
       " 'Metrocard - Unlimited 7-Day',\n",
       " 'OMNY - Fair Fare',\n",
       " 'OMNY - Full Fare',\n",
       " 'OMNY - Other',\n",
       " 'OMNY - Seniors & Disability',\n",
       " 'OMNY - Students'}"
      ]
     },
     "execution_count": 9,
     "metadata": {},
     "output_type": "execute_result"
    }
   ],
   "source": [
    "set(df['fare_class_category'].values)"
   ]
  },
  {
   "cell_type": "code",
   "execution_count": 10,
   "id": "5eb1bb43-5fac-464f-8d2a-4fd78f9d1606",
   "metadata": {},
   "outputs": [
    {
     "data": {
      "text/plain": [
       "{'Bronx', 'Brooklyn', 'Manhattan', 'Queens', 'Staten Island'}"
      ]
     },
     "execution_count": 10,
     "metadata": {},
     "output_type": "execute_result"
    }
   ],
   "source": [
    "set(df['borough'].values)"
   ]
  }
 ],
 "metadata": {
  "kernelspec": {
   "display_name": "Python 3 (ipykernel)",
   "language": "python",
   "name": "python3"
  },
  "language_info": {
   "codemirror_mode": {
    "name": "ipython",
    "version": 3
   },
   "file_extension": ".py",
   "mimetype": "text/x-python",
   "name": "python",
   "nbconvert_exporter": "python",
   "pygments_lexer": "ipython3",
   "version": "3.13.2"
  }
 },
 "nbformat": 4,
 "nbformat_minor": 5
}
